{
 "cells": [
  {
   "cell_type": "markdown",
   "metadata": {},
   "source": [
    "## Imports of utility functions we will be using\n",
    "below we import the work for our residual network and deep hybrid scatter network"
   ]
  },
  {
   "cell_type": "code",
   "execution_count": null,
   "metadata": {},
   "outputs": [
    {
     "name": "stderr",
     "output_type": "stream",
     "text": [
      "/home/ubuntu/anaconda3/envs/tensorflow_p36/lib/python3.6/importlib/_bootstrap.py:219: RuntimeWarning: compiletime version 3.5 of module 'tensorflow.python.framework.fast_tensor_util' does not match runtime version 3.6\n",
      "  return f(*args, **kwds)\n",
      "/home/ubuntu/anaconda3/envs/tensorflow_p36/lib/python3.6/site-packages/h5py/__init__.py:36: FutureWarning: Conversion of the second argument of issubdtype from `float` to `np.floating` is deprecated. In future, it will be treated as `np.float64 == np.dtype(float).type`.\n",
      "  from ._conv import register_converters as _register_converters\n"
     ]
    },
    {
     "name": "stdout",
     "output_type": "stream",
     "text": [
      "Extracting MNIST-data/train-images-idx3-ubyte.gz\n",
      "Extracting MNIST-data/train-labels-idx1-ubyte.gz\n",
      "Extracting MNIST-data/t10k-images-idx3-ubyte.gz\n",
      "Extracting MNIST-data/t10k-labels-idx1-ubyte.gz\n"
     ]
    }
   ],
   "source": [
    "import sys\n",
    "import os\n",
    "sys.path.append('/home/ubuntu/feature_viz/resnet')\n",
    "sys.path.append('/home/ubuntu/feature_viz/ScatteringTransform/src/model')\n",
    "from flags import define_flags as scatternet_define_flags\n",
    "from train_mnist import train_model as scatternet_train\n",
    "from res_features import train as resnet_train\n",
    "from visualize import visualize_features\n",
    "import sklearn\n",
    "import tensorflow as tf\n",
    "\n",
    "mnist = tf.contrib.learn.datasets.load_dataset(\"mnist\")"
   ]
  },
  {
   "cell_type": "markdown",
   "metadata": {},
   "source": [
    "# FEATURE EXTRACTION WITH RESIDUAL NETWORK AND FINE TUNING\n",
    "## Resnet 50 pretrained from the Kth layer and higher\n",
    "* pretraining Icslvr 2017\n",
    "* blocks before k are frozen\n",
    "* classification is done w/ 3 fully connected layers. The first 2 use rectified linear units as acitvation functions while the final layer has a softmax\n",
    "* features are extracted from the 4th residual block. In the 50 layer residual network this is the block immediately before generating logits for classification."
   ]
  },
  {
   "cell_type": "code",
   "execution_count": null,
   "metadata": {},
   "outputs": [
    {
     "name": "stdout",
     "output_type": "stream",
     "text": [
      "Extracting MNIST-data/train-images-idx3-ubyte.gz\n",
      "Extracting MNIST-data/train-labels-idx1-ubyte.gz\n",
      "Extracting MNIST-data/t10k-images-idx3-ubyte.gz\n",
      "Extracting MNIST-data/t10k-labels-idx1-ubyte.gz\n",
      "INFO:tensorflow:Scale of 0 disables regularizer.\n",
      "INFO:tensorflow:Restoring parameters from /home/ubuntu/feature_viz/resnet/resnet_v1_50.ckpt\n",
      "iter 0 train accuracy: 0.125\n"
     ]
    }
   ],
   "source": [
    "resnet_classifier = resnet_train(freeze_before_k=3) # all blocks before block k are frozen for training"
   ]
  },
  {
   "cell_type": "markdown",
   "metadata": {},
   "source": [
    "# FEATURE EXTRACTION WITH SCATTER NETWORK\n",
    "## Scatternet Training and Testing on MNIST\n",
    "The work for scatternet was mostly based off the work done by [tdeboissiere](https://github.com/tdeboissiere) found [here](https://github.com/tdeboissiere/DeepLearningImplementations/tree/master/ScatteringTransform). This scatter network is actually a bit different than the scatter network found in Brunna & Mallat's work. What we analyze here is  a deep hybrid scatter network. We use scatter transforms similar to those found in [Brunna & Mallat's work](https://arxiv.org/abs/1203.1513) followed by a few convolutional layers and fully connected layers. A detailed explanation of how this works can be found in Oyallon's [Deep Hybrid Networks paper](https://arxiv.org/abs/1703.08961)."
   ]
  },
  {
   "cell_type": "code",
   "execution_count": null,
   "metadata": {},
   "outputs": [],
   "source": [
    "scatternet_define_flags() \n",
    "scatternet_classifier = scatternet_train()  # no pretrained weights for the hybrid scatter net so we do not need to specify a k"
   ]
  },
  {
   "cell_type": "markdown",
   "metadata": {},
   "source": [
    "# FEATURE VISUALIZATION\n",
    "Sample some data points from MNIST to map to a feature space with both of our classifiers. Once we have both of these new feature spaces we can use TSNE to reduce dimensionality to a space easily visualized."
   ]
  },
  {
   "cell_type": "code",
   "execution_count": null,
   "metadata": {},
   "outputs": [],
   "source": [
    "x_viz, y_viz = mnist.test.next_batch(1280)"
   ]
  },
  {
   "cell_type": "markdown",
   "metadata": {},
   "source": [
    "## TSNE on 50 layer residual network features\n",
    "Looks like we are forming some clusters of each of the classes however there is heavy overlap. For example 2, 3, 5, and 8 all have clusters that that appear in roughly the same space."
   ]
  },
  {
   "cell_type": "code",
   "execution_count": null,
   "metadata": {},
   "outputs": [],
   "source": [
    "resnet_features_viz = resnet_classifier.get_features(x_viz)\n",
    "visualize_features(resnet_features_viz, y_viz, 'resnet50')"
   ]
  },
  {
   "cell_type": "markdown",
   "metadata": {},
   "source": [
    "## TSNE on Deep Hybrid Network\n",
    "Class separation is much stronger here than we experienced in our 50 layer residual network. I am guessing this is because the Deep Hybrid Network allowed for all the weights to be trained. While we froze all the weights and biases below the 3rd block of the resnet."
   ]
  },
  {
   "cell_type": "code",
   "execution_count": null,
   "metadata": {},
   "outputs": [],
   "source": [
    "scatternet_features_viz = scatternet_classifier(x_viz)\n",
    "visualize_features(scatternet_features_viz, y_viz, 'scatternet')"
   ]
  },
  {
   "cell_type": "markdown",
   "metadata": {},
   "source": [
    "# IMAGAGE CLASSIFICATION COMPARISON\n",
    "## Multilayer Neural Network vs. Logistic Regression vs. Support Vector Machine"
   ]
  },
  {
   "cell_type": "code",
   "execution_count": null,
   "metadata": {},
   "outputs": [],
   "source": [
    "def logistic_regression(train_features, train_labels, test_features, test_labels):\n",
    "    lm = sklearn.linear_model.Logistic_Regression(multi_class='multinomial')\n",
    "    lm.fit(train_features, train_labels)\n",
    "    score = lm.score(test_features, test_labels)\n",
    "    return score\n",
    "\n",
    "def support_vector_machine(train_features, train_labels, test_features, test_labels):\n",
    "    svm = sklearn.svm.SVC()\n",
    "    svm.fit(train_features, train_labels)\n",
    "    score = svm.score(test_features, test_labels)\n",
    "    return score"
   ]
  },
  {
   "cell_type": "code",
   "execution_count": null,
   "metadata": {},
   "outputs": [],
   "source": [
    "x_train, y_train = mnist.train.next_batch(1280)\n",
    "scatternet_features_train = scatternet_classifier.get_features(x_train)\n",
    "resnet_features_train = resnet_classifier.get_features(x_train)\n",
    "\n",
    "lm_res_score = logistic_regression(resnet_features, y_train, resnet_features_viz, y_viz)\n",
    "svm_res_score = support_vector_machine(resnet_features, y_train, resnet_features_viz, y_viz)\n",
    "\n",
    "lm_scatternet_score = logistic_regression(scatternet_features, y_train, scatternet_features_viz, y_viz)\n",
    "svm_scatternet_score = support_vector_machine(scatternet_features, y_train, scatternet_features_viz, y_viz)"
   ]
  }
 ],
 "metadata": {
  "kernelspec": {
   "display_name": "Environment (conda_tensorflow_p36)",
   "language": "python",
   "name": "conda_tensorflow_p36"
  },
  "language_info": {
   "codemirror_mode": {
    "name": "ipython",
    "version": 3
   },
   "file_extension": ".py",
   "mimetype": "text/x-python",
   "name": "python",
   "nbconvert_exporter": "python",
   "pygments_lexer": "ipython3",
   "version": "3.6.3"
  }
 },
 "nbformat": 4,
 "nbformat_minor": 2
}
